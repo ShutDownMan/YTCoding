{
 "cells": [
  {
   "cell_type": "code",
   "execution_count": null,
   "metadata": {},
   "outputs": [],
   "source": [
    "# !/home/jedi/.pyenv/37venv/bin/python3.7 -m pip install manim\n",
    "# !/home/jedi/.pyenv/37venv/bin/python3.7 -m pip install --upgrade pip"
   ]
  },
  {
   "cell_type": "code",
   "execution_count": 2,
   "metadata": {},
   "outputs": [
    {
     "data": {
      "text/html": [
       "<pre style=\"white-space:pre;overflow-x:auto;line-height:normal;font-family:Menlo,'DejaVu Sans Mono',consolas,'Courier New',monospace\">Manim Community <span style=\"color: #008000; text-decoration-color: #008000\">v0.11.0</span>\n",
       "\n",
       "</pre>\n"
      ],
      "text/plain": [
       "Manim Community \u001b[32mv0.\u001b[0m\u001b[32m11.0\u001b[0m\n",
       "\n"
      ]
     },
     "metadata": {},
     "output_type": "display_data"
    }
   ],
   "source": [
    "from manim import *"
   ]
  },
  {
   "cell_type": "code",
   "execution_count": 24,
   "metadata": {},
   "outputs": [
    {
     "name": "stderr",
     "output_type": "stream",
     "text": [
      "/home/jedi/.pyenv/37venv/lib/python3.7/site-packages/ipykernel_launcher.py:17: DeprecationWarning: This method is not guaranteed to stay around. Please prefer setting the attribute normally or with Mobject.set().\n"
     ]
    },
    {
     "data": {
      "text/html": [
       "<video src=\"media/jupyter/RecursiveCode@2021-10-20@22-19-16.mp4\" controls autoplay loop style=\"max-width: 25vw;\"  >\n",
       "      Your browser does not support the <code>video</code> element.\n",
       "    </video>"
      ],
      "text/plain": [
       "<IPython.core.display.Video object>"
      ]
     },
     "metadata": {},
     "output_type": "display_data"
    }
   ],
   "source": [
    "%%manim -qm -v ERROR --flush_cache RecursiveCode\n",
    "\n",
    "# recursive code viz\n",
    "\n",
    "class RecursiveCode(Scene):\n",
    "    def construct(self):\n",
    "        # Show opening\n",
    "\n",
    "        # show code\n",
    "        code = '''\n",
    "#!/bin/python\n",
    "\n",
    "def func(x):\n",
    "    # ...\n",
    "    func(x)\n",
    "'''\n",
    "        code_mbj = Code(code=code, language=\"python\", tab_width=4, insert_line_no=False, background=\"window\", font=\"Monospace\")\n",
    "        code_mbj.set_width(7)\n",
    "\n",
    "        self.play(FadeIn(code_mbj))\n",
    "        self.wait(3)\n",
    "\n",
    "        # highlight recursive call\n",
    "        self.play(code_mbj.code[4][:].animate.set_color(YELLOW))\n",
    "        self.play(Indicate(code_mbj.code[4][:], color=WHITE))\n",
    "        self.wait(3)\n"
   ]
  },
  {
   "cell_type": "code",
   "execution_count": null,
   "metadata": {},
   "outputs": [],
   "source": [
    "%%manim -qm -v ERROR --flush_cache RecursiveProblem\n",
    "\n",
    "# recursive problem viz\n",
    "\n",
    "class RecursiveProblem(Scene):\n",
    "   def construct(self):\n",
    "      # big square with label\n",
    "      sqr_big = Square(side_length=2.5)\n",
    "      sqr_big.set_fill(BLUE_E, opacity=1)\n",
    "      sqr_big_label = MathTex(\"X\", tex_to_color_map={\"text\": WHITE})\n",
    "      sqr_big_label.set_width(1.5)\n",
    "\n",
    "      vg1 = VGroup (\n",
    "         sqr_big,\n",
    "         sqr_big_label\n",
    "      )\n",
    "\n",
    "      # small square with label\n",
    "      sqr_sml = Square(side_length=1.5)\n",
    "      sqr_sml.set_fill(BLUE_E, opacity=1)\n",
    "      sqr_sml_label = MathTex(\"X\", tex_to_color_map={\"text\": WHITE})\n",
    "      sqr_sml_label.set_width(0.75)\n",
    "\n",
    "      vg2 = VGroup (\n",
    "         sqr_sml,\n",
    "         sqr_sml_label\n",
    "      )\n",
    "\n",
    "      # tiny square with label\n",
    "      sqr_tiny = Square(side_length=0.5)\n",
    "      sqr_tiny.set_fill(BLUE_E, opacity=1)\n",
    "      sqr_tiny_label = MathTex(\"X\", tex_to_color_map={\"text\": WHITE})\n",
    "      sqr_tiny_label.set_width(0.15)\n",
    "\n",
    "      vg3 = VGroup (\n",
    "         sqr_tiny,\n",
    "         sqr_tiny_label\n",
    "      )\n",
    "\n",
    "      # main arrow\n",
    "      tex_arrow1 = MathTex(r\"\\rightarrow\")\n",
    "      tex_arrow1.set_width(2)\n",
    "\n",
    "      tex_arrow2 = MathTex(r\"\\rightarrow ...\")\n",
    "      tex_arrow2.set_width(2.8)\n",
    "\n",
    "      tex_arrow3 = MathTex(r\"\\rightarrow\")\n",
    "      tex_arrow3.set_width(1)\n",
    "\n",
    "      arrows = [tex_arrow1, tex_arrow2, tex_arrow3]\n",
    "\n",
    "      # show small square inside\n",
    "      vg1.set_z_index(1)\n",
    "      self.play(FadeIn(vg1))\n",
    "      vg2.set_z_index(0)\n",
    "      self.add(vg2)\n",
    "      self.play(vg2.animate.shift(1 * UP))\n",
    "      self.wait(1.8)\n",
    "\n",
    "      # separate them\n",
    "      self.play(vg1.animate.to_edge(LEFT), vg2.animate.move_to([0, 0, 0]), vg3.animate.to_edge(RIGHT))\n",
    "\n",
    "      tex_arrow1.move_to(vg1.get_center() + RIGHT * 3)\n",
    "      tex_arrow2.move_to(vg2.get_center() + RIGHT * 2.5)\n",
    "      tex_arrow3.move_to(tex_arrow2.get_center() + RIGHT * 2.5)\n",
    "\n",
    "      self.play(Write(tex_arrow1), Write(tex_arrow2), Write(tex_arrow3))\n",
    "      self.wait()\n",
    "\n",
    "      self.play(\n",
    "         *[FadeOut(arrow) for arrow in arrows],\n",
    "         vg1.animate.move_to([0, 0, 0]),\n",
    "         FadeOut(vg2),\n",
    "         FadeOut(vg3),\n",
    "      )\n",
    "      self.wait()\n",
    "\n",
    "      tex_rec = Text(\"Recursão\", color=RED)\n",
    "      tex_rec.set_width(config[\"frame_width\"] - 2 * LARGE_BUFF)\n",
    "\n",
    "      self.play(Transform(vg1, tex_rec))\n",
    "      self.wait()\n"
   ]
  }
 ],
 "metadata": {
  "interpreter": {
   "hash": "f1c742b7c4bb158385ba7c88372daa5cbec7125bd6cafa71226879218b8cc323"
  },
  "kernelspec": {
   "display_name": "Python 3.7.12 64-bit ('37venv': venv)",
   "name": "python3"
  },
  "language_info": {
   "codemirror_mode": {
    "name": "ipython",
    "version": 3
   },
   "file_extension": ".py",
   "mimetype": "text/x-python",
   "name": "python",
   "nbconvert_exporter": "python",
   "pygments_lexer": "ipython3",
   "version": "3.7.12"
  },
  "orig_nbformat": 4
 },
 "nbformat": 4,
 "nbformat_minor": 2
}
