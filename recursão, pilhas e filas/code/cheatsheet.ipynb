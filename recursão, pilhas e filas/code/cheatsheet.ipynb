{
 "cells": [
  {
   "cell_type": "code",
   "execution_count": null,
   "metadata": {},
   "outputs": [],
   "source": [
    "# !/home/jedi/.pyenv/37venv/bin/python3.7 -m pip install manim\n",
    "# !/home/jedi/.pyenv/37venv/bin/python3.7 -m pip install --upgrade pip"
   ]
  },
  {
   "cell_type": "code",
   "execution_count": 1,
   "metadata": {},
   "outputs": [
    {
     "data": {
      "text/html": [
       "<pre style=\"white-space:pre;overflow-x:auto;line-height:normal;font-family:Menlo,'DejaVu Sans Mono',consolas,'Courier New',monospace\">Manim Community <span style=\"color: #008000; text-decoration-color: #008000\">v0.11.0</span>\n",
       "\n",
       "</pre>\n"
      ],
      "text/plain": [
       "Manim Community \u001b[32mv0.\u001b[0m\u001b[32m11.0\u001b[0m\n",
       "\n"
      ]
     },
     "metadata": {},
     "output_type": "display_data"
    }
   ],
   "source": [
    "from manim import *"
   ]
  },
  {
   "cell_type": "code",
   "execution_count": null,
   "metadata": {},
   "outputs": [],
   "source": [
    "%%manim -qm -v WARNING SquareToCircle\n",
    "\n",
    "class SquareToCircle(Scene):\n",
    "   def construct(self):\n",
    "      square = Square()\n",
    "      circle = Circle()\n",
    "      circle.set_fill(PINK, opacity=0.5)\n",
    "      self.play(Create(square))\n",
    "      self.play(Transform(square, circle))\n",
    "      self.wait()"
   ]
  },
  {
   "cell_type": "code",
   "execution_count": null,
   "metadata": {},
   "outputs": [],
   "source": [
    "%%manim -qm -v WARNING WarpSquare\n",
    "\n",
    "class WarpSquare(Scene):\n",
    "    def construct(self):\n",
    "        square = Square()\n",
    "        self.play(\n",
    "            ApplyPointwiseFunction(\n",
    "                lambda point: complex_to_R3(np.exp(R3_to_complex(point))), square\n",
    "            )\n",
    "        )\n",
    "        self.wait()"
   ]
  },
  {
   "cell_type": "code",
   "execution_count": 4,
   "metadata": {},
   "outputs": [
    {
     "name": "stderr",
     "output_type": "stream",
     "text": [
      "/home/jedi/.pyenv/37venv/lib/python3.7/site-packages/ipykernel_launcher.py:10: DeprecationWarning: This method is not guaranteed to stay around. Please prefer setting the attribute normally or with Mobject.set().\n",
      "  # Remove the CWD from sys.path while we load stuff.\n"
     ]
    },
    {
     "data": {
      "text/html": [
       "<video src=\"media/jupyter/WriteStuff@2021-10-20@16-46-31.mp4\" controls autoplay loop style=\"max-width: 25vw;\"  >\n",
       "      Your browser does not support the <code>video</code> element.\n",
       "    </video>"
      ],
      "text/plain": [
       "<IPython.core.display.Video object>"
      ]
     },
     "metadata": {},
     "output_type": "display_data"
    }
   ],
   "source": [
    "%%manim -qm -v WARNING WriteStuff\n",
    "\n",
    "class WriteStuff(Scene):\n",
    "    def construct(self):\n",
    "        example_text = Tex(\"This is some text\", tex_to_color_map={\"text\": YELLOW})\n",
    "        example_tex = MathTex(\n",
    "            \"\\\\sum_{k=1}^\\\\infty {1 \\\\over k^2} = {\\\\pi^2 \\\\over 6}\",\n",
    "        )\n",
    "        group = VGroup(example_text, example_tex)\n",
    "        group.arrange(DOWN)\n",
    "        group.set_width(config[\"frame_width\"] - 2 * LARGE_BUFF)\n",
    "\n",
    "        self.play(Write(example_text))\n",
    "        self.play(Write(example_tex))\n",
    "        self.wait()"
   ]
  },
  {
   "cell_type": "code",
   "execution_count": 3,
   "metadata": {},
   "outputs": [
    {
     "name": "stderr",
     "output_type": "stream",
     "text": []
    },
    {
     "data": {
      "text/html": [
       "<video src=\"media/jupyter/OpeningManim@2021-10-20@16-30-42.mp4\" controls autoplay loop style=\"max-width: 25vw;\"  >\n",
       "      Your browser does not support the <code>video</code> element.\n",
       "    </video>"
      ],
      "text/plain": [
       "<IPython.core.display.Video object>"
      ]
     },
     "metadata": {},
     "output_type": "display_data"
    }
   ],
   "source": [
    "%%manim -qm -v WARNING OpeningManim\n",
    "\n",
    "class OpeningManim(Scene):\n",
    "    def construct(self):\n",
    "        title = Tex(r\"This is some \\LaTeX\")\n",
    "        basel = MathTex(r\"\\sum_{n=1}^\\infty \\frac{1}{n^2} = \\frac{\\pi^2}{6}\")\n",
    "        VGroup(title, basel).arrange(DOWN)\n",
    "        self.play(\n",
    "            Write(title),\n",
    "            FadeIn(basel, shift=DOWN),\n",
    "        )\n",
    "        self.wait()\n",
    "\n",
    "        transform_title = Tex(\"That was a transform\")\n",
    "        transform_title.to_corner(UP + LEFT)\n",
    "        self.play(\n",
    "            Transform(title, transform_title),\n",
    "            LaggedStart(*(FadeOut(obj, shift=DOWN) for obj in basel)),\n",
    "        )\n",
    "        self.wait()\n",
    "\n",
    "        grid = NumberPlane()\n",
    "        grid_title = Tex(\"This is a grid\", font_size=72)\n",
    "        grid_title.move_to(transform_title)\n",
    "\n",
    "        self.add(grid, grid_title)  # Make sure title is on top of grid\n",
    "        self.play(\n",
    "            FadeOut(title),\n",
    "            FadeIn(grid_title, shift=UP),\n",
    "            Create(grid, run_time=3, lag_ratio=0.1),\n",
    "        )\n",
    "        self.wait()\n",
    "\n",
    "        grid_transform_title = Tex(\n",
    "            r\"That was a non-linear function \\\\ applied to the grid\",\n",
    "        )\n",
    "        grid_transform_title.move_to(grid_title, UL)\n",
    "        grid.prepare_for_nonlinear_transform()\n",
    "        self.play(\n",
    "            grid.animate.apply_function(\n",
    "                lambda p: p\n",
    "                + np.array(\n",
    "                    [\n",
    "                        np.sin(p[1]),\n",
    "                        np.sin(p[0]),\n",
    "                        0,\n",
    "                    ],\n",
    "                ),\n",
    "            ),\n",
    "            run_time=3,\n",
    "        )\n",
    "        self.wait()\n",
    "        self.play(Transform(grid_title, grid_transform_title))\n",
    "        self.wait()\n"
   ]
  },
  {
   "cell_type": "code",
   "execution_count": null,
   "metadata": {},
   "outputs": [],
   "source": [
    "%%manim -qm -v WARNING ExampleCone\n",
    "\n",
    "class ExampleCone(ThreeDScene):\n",
    "    def construct(self):\n",
    "        axes = ThreeDAxes()\n",
    "        cone = Cone(direction=X_AXIS+Y_AXIS+2*Z_AXIS)\n",
    "        self.set_camera_orientation(phi=5*PI/11, theta=PI/9)\n",
    "        self.add(axes, cone)"
   ]
  },
  {
   "cell_type": "code",
   "execution_count": null,
   "metadata": {},
   "outputs": [],
   "source": [
    "%%manim -qm --resolution 1280,720 TexFontTemplateLibrary\n",
    "\n",
    "# French Cursive LaTeX font example from http://jf.burnol.free.fr/showcase.html\n",
    "\n",
    "# Example 1 Manually creating a Template\n",
    "\n",
    "TemplateForFrenchCursive = TexTemplate(\n",
    "    preamble=r\"\"\"\n",
    "\\usepackage[english]{babel}\n",
    "\\usepackage{amsmath}\n",
    "\\usepackage{amssymb}\n",
    "\\usepackage[T1]{fontenc}\n",
    "\\usepackage[default]{frcursive}\n",
    "\\usepackage[eulergreek,noplusnominus,noequal,nohbar,%\n",
    "nolessnomore,noasterisk]{mathastext}\n",
    "\"\"\",\n",
    ")\n",
    "\n",
    "\n",
    "def FrenchCursive(*tex_strings, **kwargs):\n",
    "    return Tex(*tex_strings, tex_template=TemplateForFrenchCursive, **kwargs)\n",
    "\n",
    "\n",
    "class TexFontTemplateManual(Scene):\n",
    "    \"\"\"An example scene that uses a manually defined TexTemplate() object to create\n",
    "    LaTeX output in French Cursive font\"\"\"\n",
    "\n",
    "    def construct(self):\n",
    "        self.add(Tex(\"Tex Font Example\").to_edge(UL))\n",
    "        self.play(Create(FrenchCursive(\"$f: A \\\\longrightarrow B$\").shift(UP)))\n",
    "        self.play(Create(FrenchCursive(\"Behold! We can write math in French Cursive\")))\n",
    "        self.wait(1)\n",
    "        self.play(\n",
    "            Create(\n",
    "                Tex(\n",
    "                    \"See more font templates at \\\\\\\\ http://jf.burnol.free.fr/showcase.html\",\n",
    "                ).shift(2 * DOWN),\n",
    "            ),\n",
    "        )\n",
    "        self.wait(2)\n",
    "\n",
    "\n",
    "# Example 2, using a Template from the collection\n",
    "\n",
    "class TexFontTemplateLibrary(Scene):\n",
    "    \"\"\"An example scene that uses TexTemplate objects from the TexFontTemplates collection\n",
    "    to create sample LaTeX output in every font that will compile on the local system.\n",
    "    Please Note:\n",
    "    Many of the in the TexFontTemplates collection require that specific fonts\n",
    "    are installed on your local machine.\n",
    "    For example, choosing the template TexFontTemplates.comic_sans will\n",
    "    not compile if the Comic Sans Micrososft font is not installed.\n",
    "    This scene will only render those Templates that do not cause a TeX\n",
    "    compilation error on your system. Furthermore, some of the ones that do render,\n",
    "    may still render incorrectly. This is beyond the scope of manim.\n",
    "    Feel free to experiment.\n",
    "    \"\"\"\n",
    "\n",
    "    def construct(self):\n",
    "        def write_one_line(template):\n",
    "            x = Tex(template.description, tex_template=template).shift(UP)\n",
    "            self.play(Create(x))\n",
    "            self.wait(1)\n",
    "            self.play(FadeOut(x))\n",
    "\n",
    "        examples = [\n",
    "            TexFontTemplates.american_typewriter,  # \"American Typewriter\"\n",
    "            TexFontTemplates.antykwa,  # \"Antykwa Półtawskiego (TX Fonts for Greek and math symbols)\"\n",
    "            TexFontTemplates.apple_chancery,  # \"Apple Chancery\"\n",
    "            TexFontTemplates.auriocus_kalligraphicus,  # \"Auriocus Kalligraphicus (Symbol Greek)\"\n",
    "            TexFontTemplates.baskervald_adf_fourier,  # \"Baskervald ADF with Fourier\"\n",
    "            TexFontTemplates.baskerville_it,  # \"Baskerville (Italic)\"\n",
    "            TexFontTemplates.biolinum,  # \"Biolinum\"\n",
    "            TexFontTemplates.brushscriptx,  # \"BrushScriptX-Italic (PX math and Greek)\"\n",
    "            TexFontTemplates.chalkboard_se,  # \"Chalkboard SE\"\n",
    "            TexFontTemplates.chalkduster,  # \"Chalkduster\"\n",
    "            TexFontTemplates.comfortaa,  # \"Comfortaa\"\n",
    "            TexFontTemplates.comic_sans,  # \"Comic Sans MS\"\n",
    "            TexFontTemplates.droid_sans,  # \"Droid Sans\"\n",
    "            TexFontTemplates.droid_sans_it,  # \"Droid Sans (Italic)\"\n",
    "            TexFontTemplates.droid_serif,  # \"Droid Serif\"\n",
    "            TexFontTemplates.droid_serif_px_it,  # \"Droid Serif (PX math symbols) (Italic)\"\n",
    "            TexFontTemplates.ecf_augie,  # \"ECF Augie (Euler Greek)\"\n",
    "            TexFontTemplates.ecf_jd,  # \"ECF JD (with TX fonts)\"\n",
    "            TexFontTemplates.ecf_skeetch,  # \"ECF Skeetch (CM Greek)\"\n",
    "            TexFontTemplates.ecf_tall_paul,  # \"ECF Tall Paul (with Symbol font)\"\n",
    "            TexFontTemplates.ecf_webster,  # \"ECF Webster (with TX fonts)\"\n",
    "            TexFontTemplates.electrum_adf,  # \"Electrum ADF (CM Greek)\"\n",
    "            TexFontTemplates.epigrafica,  # Epigrafica\n",
    "            TexFontTemplates.fourier_utopia,  # \"Fourier Utopia (Fourier upright Greek)\"\n",
    "            TexFontTemplates.french_cursive,  # \"French Cursive (Euler Greek)\"\n",
    "            TexFontTemplates.gfs_bodoni,  # \"GFS Bodoni\"\n",
    "            TexFontTemplates.gfs_didot,  # \"GFS Didot (Italic)\"\n",
    "            TexFontTemplates.gfs_neoHellenic,  # \"GFS NeoHellenic\"\n",
    "            TexFontTemplates.gnu_freesans_tx,  # \"GNU FreeSerif (and TX fonts symbols)\"\n",
    "            TexFontTemplates.gnu_freeserif_freesans,  # \"GNU FreeSerif and FreeSans\"\n",
    "            TexFontTemplates.helvetica_fourier_it,  # \"Helvetica with Fourier (Italic)\"\n",
    "            TexFontTemplates.latin_modern_tw_it,  # \"Latin Modern Typewriter Proportional (CM Greek) (Italic)\"\n",
    "            TexFontTemplates.latin_modern_tw,  # \"Latin Modern Typewriter Proportional\"\n",
    "            TexFontTemplates.libertine,  # \"Libertine\"\n",
    "            TexFontTemplates.libris_adf_fourier,  # \"Libris ADF with Fourier\"\n",
    "            TexFontTemplates.minion_pro_myriad_pro,  # \"Minion Pro and Myriad Pro (and TX fonts symbols)\"\n",
    "            TexFontTemplates.minion_pro_tx,  # \"Minion Pro (and TX fonts symbols)\"\n",
    "            TexFontTemplates.new_century_schoolbook,  # \"New Century Schoolbook (Symbol Greek)\"\n",
    "            TexFontTemplates.new_century_schoolbook_px,  # \"New Century Schoolbook (Symbol Greek, PX math symbols)\"\n",
    "            TexFontTemplates.noteworthy_light,  # \"Noteworthy Light\"\n",
    "            TexFontTemplates.palatino,  # \"Palatino (Symbol Greek)\"\n",
    "            TexFontTemplates.papyrus,  # \"Papyrus\"\n",
    "            TexFontTemplates.romande_adf_fourier_it,  # \"Romande ADF with Fourier (Italic)\"\n",
    "            TexFontTemplates.slitex,  # \"SliTeX (Euler Greek)\"\n",
    "            TexFontTemplates.times_fourier_it,  # \"Times with Fourier (Italic)\"\n",
    "            TexFontTemplates.urw_avant_garde,  # \"URW Avant Garde (Symbol Greek)\"\n",
    "            TexFontTemplates.urw_zapf_chancery,  # \"URW Zapf Chancery (CM Greek)\"\n",
    "            TexFontTemplates.venturis_adf_fourier_it,  # \"Venturis ADF with Fourier (Italic)\"\n",
    "            TexFontTemplates.verdana_it,  # \"Verdana (Italic)\"\n",
    "            TexFontTemplates.vollkorn_fourier_it,  # \"Vollkorn with Fourier (Italic)\"\n",
    "            TexFontTemplates.vollkorn,  # \"Vollkorn (TX fonts for Greek and math symbols)\"\n",
    "            TexFontTemplates.zapf_chancery,  # \"Zapf Chancery\"\n",
    "        ]\n",
    "\n",
    "        self.add(Tex(\"Tex Font Template Example\").to_edge(UL))\n",
    "\n",
    "        failed_count = 0\n",
    "        for font in examples:\n",
    "            try:\n",
    "                write_one_line(font)\n",
    "            except Exception:\n",
    "                failed_count += 1\n",
    "                print(\"FAILURE on \", font.description, \" - skipping.\")\n",
    "\n",
    "        print(f\"{failed_count} ou of {len(examples)} failed. ({(failed_count/len(examples))*100}%)\")\n",
    "\n",
    "        self.play(\n",
    "            Create(\n",
    "                Tex(\n",
    "                    \"See more font templates at \\\\\\\\ http://jf.burnol.free.fr/showcase.html\",\n",
    "                ).shift(2 * DOWN),\n",
    "            ),\n",
    "        )\n",
    "        self.wait(2)\n"
   ]
  },
  {
   "cell_type": "code",
   "execution_count": 2,
   "metadata": {},
   "outputs": [
    {
     "name": "stderr",
     "output_type": "stream",
     "text": []
    },
    {
     "data": {
      "text/html": [
       "<video src=\"media/jupyter/SquareToCircle@2021-10-20@10-28-52.mp4\" controls autoplay loop style=\"max-width: 25vw;\"  >\n",
       "      Your browser does not support the <code>video</code> element.\n",
       "    </video>"
      ],
      "text/plain": [
       "<IPython.core.display.Video object>"
      ]
     },
     "metadata": {},
     "output_type": "display_data"
    }
   ],
   "source": [
    "%%manim -qm -v WARNING --flush_cache SquareToCircle\n",
    "\n",
    "class MoveAndRotate(Animation):\n",
    "   def __init__(self, mob: mobject, end_pos: list, end_rads: float, **kwargs):\n",
    "      # call Animation class with args\n",
    "      super().__init__(mob, **kwargs)\n",
    "\n",
    "      self.mob = mob\n",
    "      self.start_pos = self.mob.get_center()\n",
    "      self.end_pos = end_pos\n",
    "      self.end_rads = end_rads\n",
    "\n",
    "      self.mob.save_state()\n",
    "\n",
    "   def interpolate_mobject(self, alpha: float):\n",
    "      self.mob.restore()\n",
    "      self.mob.become(\n",
    "         self.mob.move_to(self.start_pos + (self.end_pos - self.start_pos) * self.rate_func(alpha))\n",
    "         .rotate(self.end_rads * self.rate_func(alpha))\n",
    "      )\n",
    "\n",
    "class SquareToCircle(Scene):\n",
    "   def construct(self):\n",
    "      circle = Circle()\n",
    "      square = Square()\n",
    "      triangle = Triangle()\n",
    "\n",
    "      square.set_fill(WHITE, opacity=0.7)\n",
    "      circle.set_fill(PINK, opacity=0.7)\n",
    "      triangle.set_fill(BLUE, opacity=0.7)\n",
    "\n",
    "      square.shift(UP * 2.5)\n",
    "      circle.shift(LEFT)\n",
    "      triangle.shift(RIGHT)\n",
    "\n",
    "      self.play(FadeIn(square))\n",
    "      self.wait()\n",
    "      self.play(Rotate(square, PI/4))\n",
    "      self.wait()\n",
    "\n",
    "      self.play(square.animate.set_fill(BLUE, opacity=0.7))\n",
    "      self.wait()\n",
    "\n",
    "      square.save_state()\n",
    "      start_pos = square.get_center()\n",
    "      self.play(MoveAndRotate(square, DOWN * 2.5, -PI, rate_func=rate_functions.there_and_back))\n",
    "      self.wait()\n"
   ]
  },
  {
   "cell_type": "code",
   "execution_count": 9,
   "metadata": {},
   "outputs": [
    {
     "name": "stderr",
     "output_type": "stream",
     "text": []
    },
    {
     "data": {
      "text/html": [
       "<video src=\"media/jupyter/CountingScene@2021-10-20@09-59-46.mp4\" controls autoplay loop style=\"max-width: 25vw;\"  >\n",
       "      Your browser does not support the <code>video</code> element.\n",
       "    </video>"
      ],
      "text/plain": [
       "<IPython.core.display.Video object>"
      ]
     },
     "metadata": {},
     "output_type": "display_data"
    }
   ],
   "source": [
    "%%manim -qm -v WARNING --flush_cache CountingScene\n",
    "\n",
    "class Count(Animation):\n",
    "    def __init__(self, number: DecimalNumber, start: float, end: float, **kwargs) -> None:\n",
    "        # Pass number as the mobject of the animation\n",
    "        super().__init__(number,  **kwargs)\n",
    "        # Set start and end\n",
    "        self.start = start\n",
    "        self.end = end\n",
    "\n",
    "    def interpolate_mobject(self, alpha: float) -> None:\n",
    "        # Set value of DecimalNumber according to alpha\n",
    "        value = self.start + (self.rate_func(alpha) * (self.end - self.start))\n",
    "        self.mobject.set_value(value)\n",
    "\n",
    "class CountingScene(Scene):\n",
    "    def construct(self):\n",
    "        # Create Decimal Number and add it to scene\n",
    "        number = DecimalNumber().set_color(WHITE).scale(5)\n",
    "        # Add an updater to keep the DecimalNumber centered as its value changes\n",
    "        number.add_updater(lambda number: number.move_to(ORIGIN))\n",
    "\n",
    "        self.add(number)\n",
    "\n",
    "        self.wait()\n",
    "\n",
    "        # Play the Count Animation to count from 0 to 100 in 4 seconds\n",
    "        self.play(Count(number, 0, 100), run_time=4, rate_func=rate_functions.double_smooth)\n",
    "\n",
    "        self.wait()"
   ]
  }
 ],
 "metadata": {
  "interpreter": {
   "hash": "f1c742b7c4bb158385ba7c88372daa5cbec7125bd6cafa71226879218b8cc323"
  },
  "kernelspec": {
   "display_name": "Python 3.7.12 64-bit ('37venv': venv)",
   "name": "python3"
  },
  "language_info": {
   "codemirror_mode": {
    "name": "ipython",
    "version": 3
   },
   "file_extension": ".py",
   "mimetype": "text/x-python",
   "name": "python",
   "nbconvert_exporter": "python",
   "pygments_lexer": "ipython3",
   "version": "3.7.12"
  },
  "orig_nbformat": 4
 },
 "nbformat": 4,
 "nbformat_minor": 2
}
